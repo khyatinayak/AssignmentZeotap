{
 "cells": [
  {
   "cell_type": "code",
   "execution_count": null,
   "id": "6336bc3f",
   "metadata": {},
   "outputs": [],
   "source": [
    "import pandas as pd\n",
    "import matplotlib.pyplot as plt\n",
    "import seaborn as sns\n",
    "from sklearn.cluster import KMeans\n",
    "from sklearn.preprocessing import StandardScaler\n",
    "from sklearn.model_selection import train_test_split\n",
    "from sklearn.linear_model import LinearRegression\n",
    "from sklearn.metrics import mean_absolute_error, mean_squared_error, r2_score\n",
    "import networkx as nx"
   ]
  },
  {
   "cell_type": "code",
   "execution_count": null,
   "id": "95bc8238",
   "metadata": {},
   "outputs": [],
   "source": [
    "customers = pd.read_csv(r\"E:\\assignment zeotap\\all_tasks\\Customers.csv\")\n",
    "products = pd.read_csv(r\"E:\\assignment zeotap\\all_tasks\\Products.csv\")\n",
    "transactions = pd.read_csv(r\"E:\\assignment zeotap\\all_tasks\\Transactions.csv\")"
   ]
  },
  {
   "cell_type": "code",
   "execution_count": null,
   "id": "2143086c",
   "metadata": {},
   "outputs": [],
   "source": [
    "print(transactions.columns)  # Check for the actual column names"
   ]
  },
  {
   "cell_type": "code",
   "execution_count": null,
   "id": "ff89f638",
   "metadata": {},
   "outputs": [],
   "source": [
    "print(customers.info())  # Check data types\n",
    "print(customers.isnull().sum())  # Check missing values\n",
    "print(transactions.describe())  # Summary statistics"
   ]
  },
  {
   "cell_type": "code",
   "execution_count": null,
   "id": "ac2183f3",
   "metadata": {},
   "outputs": [],
   "source": [
    "# Display basic information about the datasets\n",
    "transactions_info = transactions.info()\n",
    "customers_info = customers.info()\n",
    "products_info = products.info()"
   ]
  },
  {
   "cell_type": "code",
   "execution_count": null,
   "id": "c58572b7",
   "metadata": {},
   "outputs": [],
   "source": [
    "# Check for missing values\n",
    "missing_values = {\n",
    "    \"Transactions\": transactions.isnull().sum(),\n",
    "    \"Customers\": customers.isnull().sum(),\n",
    "    \"Products\": products.isnull().sum(),\n",
    "}"
   ]
  },
  {
   "cell_type": "code",
   "execution_count": null,
   "id": "e4723abc",
   "metadata": {},
   "outputs": [],
   "source": [
    "# Display basic statistics\n",
    "transactions_stats = transactions.describe()\n",
    "customers_stats = customers.describe()\n",
    "products_stats = products.describe()"
   ]
  },
  {
   "cell_type": "code",
   "execution_count": null,
   "id": "893f183e",
   "metadata": {},
   "outputs": [],
   "source": [
    "# Display first few rows\n",
    "transactions_head = transactions.head()\n",
    "customers_head = customers.head()\n",
    "products_head = products.head()"
   ]
  },
  {
   "cell_type": "code",
   "execution_count": null,
   "id": "7f6d50ac",
   "metadata": {},
   "outputs": [],
   "source": [
    "transactions_info, customers_info, products_info, missing_values, transactions_stats, customers_stats, products_stats, transactions_head, customers_head, products_head"
   ]
  },
  {
   "cell_type": "code",
   "execution_count": null,
   "id": "b5f4b384",
   "metadata": {},
   "outputs": [],
   "source": [
    "# Fill missing values with appropriate strategies\n",
    "transactions.fillna({'Quantity': 1, 'TotalValue': transactions['Price']}, inplace=True)\n",
    "customers.fillna({'Region': 'Unknown'}, inplace=True)\n",
    "products.fillna({'Category': 'Misc'}, inplace=True)"
   ]
  },
  {
   "cell_type": "code",
   "execution_count": null,
   "id": "c33c8eca",
   "metadata": {},
   "outputs": [],
   "source": [
    "'''--- BUSINESS INSIGHT 1 \n",
    "1. Customer Segmentation\n",
    "K-Means clustering identified four distinct customer groups based on spending and purchase frequency. \n",
    "This segmentation highlights unique behavioral patterns, enabling tailored marketing strategies. \n",
    "High-value customers can be prioritized for premium services, while less-engaged groups may benefit from targeted promotions.'''"
   ]
  },
  {
   "cell_type": "code",
   "execution_count": null,
   "id": "624fa6fc",
   "metadata": {},
   "outputs": [],
   "source": [
    "# Feature Engineering for Customer Segmentation\n",
    "customer_spending = transactions.groupby(\"CustomerID\")[[\"TotalValue\", \"Quantity\"]].sum()\n",
    "customer_data = customers.merge(customer_spending, on=\"CustomerID\", how=\"left\").fillna(0)"
   ]
  },
  {
   "cell_type": "code",
   "execution_count": null,
   "id": "d3250348",
   "metadata": {},
   "outputs": [],
   "source": [
    "# Normalize data\n",
    "scaler = StandardScaler()\n",
    "scaled_features = scaler.fit_transform(customer_data[['TotalValue', 'Quantity']])"
   ]
  },
  {
   "cell_type": "code",
   "execution_count": null,
   "id": "c3530020",
   "metadata": {},
   "outputs": [],
   "source": [
    "# Apply K-Means Clustering\n",
    "kmeans = KMeans(n_clusters=4, random_state=42)\n",
    "customer_data['Cluster'] = kmeans.fit_predict(scaled_features)"
   ]
  },
  {
   "cell_type": "code",
   "execution_count": null,
   "id": "61e2a5c4",
   "metadata": {},
   "outputs": [],
   "source": [
    "# Cluster insights\n",
    "print(customer_data.groupby(\"Cluster\").agg({\"TotalValue\": [\"mean\", \"sum\"], \"Quantity\": [\"mean\", \"sum\"]}))"
   ]
  },
  {
   "cell_type": "code",
   "execution_count": null,
   "id": "404dcd6c",
   "metadata": {},
   "outputs": [],
   "source": [
    "'''--- BUSINESS INSIGHT 2 \n",
    "2. Sales Trends\n",
    "Monthly sales trend analysis revealed significant revenue fluctuations. \n",
    "The visualization suggests a focus on peak months for campaigns and optimizing inventory during slower periods. \n",
    "Seasonal sales insights guide resource allocation and promotional planning effectively.'''"
   ]
  },
  {
   "cell_type": "code",
   "execution_count": null,
   "id": "9aec177f",
   "metadata": {},
   "outputs": [],
   "source": [
    "# Convert transaction date to datetime\n",
    "transactions[\"TransactionDate\"] = pd.to_datetime(transactions[\"TransactionDate\"])\n",
    "transactions.set_index(\"TransactionDate\", inplace=True)"
   ]
  },
  {
   "cell_type": "code",
   "execution_count": null,
   "id": "c52dd642",
   "metadata": {},
   "outputs": [],
   "source": [
    "# Resample sales data by month\n",
    "monthly_sales = transactions.resample('M').sum()"
   ]
  },
  {
   "cell_type": "code",
   "execution_count": null,
   "id": "88f5c081",
   "metadata": {},
   "outputs": [],
   "source": [
    "# Plot the trend\n",
    "plt.figure(figsize=(12, 6))\n",
    "sns.lineplot(data=monthly_sales, x=monthly_sales.index, y=\"TotalValue\", marker=\"o\")\n",
    "plt.title(\"Monthly Sales Trend\")\n",
    "plt.xlabel(\"Date\")\n",
    "plt.ylabel(\"Revenue\")\n",
    "plt.show()"
   ]
  },
  {
   "cell_type": "code",
   "execution_count": null,
   "id": "beb61a03",
   "metadata": {},
   "outputs": [],
   "source": [
    "'''--- BUSINESS INSIGHT 3\n",
    "3. Profitable Products:\n",
    "Top 10 products contributing to revenue were identified through transaction data. \n",
    "Visual analysis highlights their demand and profitability, offering insights for optimizing inventory and focusing on high-margin products during marketing.'''"
   ]
  },
  {
   "cell_type": "code",
   "execution_count": null,
   "id": "13c9cad6",
   "metadata": {},
   "outputs": [],
   "source": [
    "# Find total sales per product\n",
    "product_sales = transactions.groupby(\"ProductID\")[\"TotalValue\"].sum().reset_index()"
   ]
  },
  {
   "cell_type": "code",
   "execution_count": null,
   "id": "806c151e",
   "metadata": {},
   "outputs": [],
   "source": [
    "# Merge with product details\n",
    "product_sales = product_sales.merge(products, on=\"ProductID\")"
   ]
  },
  {
   "cell_type": "code",
   "execution_count": null,
   "id": "27b013c8",
   "metadata": {},
   "outputs": [],
   "source": [
    "# Plot top-selling products\n",
    "plt.figure(figsize=(12, 6))\n",
    "sns.barplot(data=product_sales.nlargest(10, \"TotalValue\"), x=\"ProductName\", y=\"TotalValue\", palette=\"coolwarm\")\n",
    "plt.xticks(rotation=45)\n",
    "plt.title(\"Top 10 Most Profitable Products\")\n",
    "plt.show()"
   ]
  },
  {
   "cell_type": "code",
   "execution_count": null,
   "id": "4842daff",
   "metadata": {},
   "outputs": [],
   "source": [
    "'''--- BUSINESS INSIGHT 4\n",
    "4. Revenue Prediction:\n",
    "Linear regression model trained to predict revenue using quantity and price as features.\n",
    "Performance metrics: MAE=, MSE=, R²=** show reasonable accuracy for future forecasting.'''"
   ]
  },
  {
   "cell_type": "code",
   "execution_count": null,
   "id": "e217c7dd",
   "metadata": {},
   "outputs": [],
   "source": [
    "#load the dataset\n",
    "transactions = pd.read_csv(r\"E:\\assignment zeotap\\all_tasks\\Transactions.csv\")"
   ]
  },
  {
   "cell_type": "code",
   "execution_count": null,
   "id": "875db007",
   "metadata": {},
   "outputs": [],
   "source": [
    "# Convert date column to datetime format\n",
    "transactions[\"TransactionDate\"] = pd.to_datetime(transactions[\"TransactionDate\"])"
   ]
  },
  {
   "cell_type": "code",
   "execution_count": null,
   "id": "7d7d6925",
   "metadata": {},
   "outputs": [],
   "source": [
    "# Ensure correct data types\n",
    "transactions[\"TotalValue\"] = transactions[\"TotalValue\"].astype(float)\n",
    "transactions[\"Quantity\"] = transactions[\"Quantity\"].astype(int)\n",
    "transactions[\"Price\"] = transactions[\"Price\"].astype(float)"
   ]
  },
  {
   "cell_type": "code",
   "execution_count": null,
   "id": "7ded7f2d",
   "metadata": {},
   "outputs": [],
   "source": [
    "# Revenue Over Time (Line Plot)\n",
    "plt.figure(figsize=(10, 6))\n",
    "daily_revenue = transactions.groupby(\"TransactionDate\")[\"TotalValue\"].sum()\n",
    "daily_revenue.plot(title=\"Daily Revenue Trend\", marker=\"o\", linestyle=\"-\", color=\"b\")\n",
    "plt.xlabel(\"Date\")\n",
    "plt.ylabel(\"Total Revenue\")\n",
    "plt.grid()\n",
    "plt.show()"
   ]
  },
  {
   "cell_type": "code",
   "execution_count": null,
   "id": "fdf1f33d",
   "metadata": {},
   "outputs": [],
   "source": [
    "# Revenue Distribution (Histogram)\n",
    "plt.figure(figsize=(8, 5))\n",
    "sns.histplot(transactions[\"TotalValue\"], bins=30, kde=True, color=\"green\")\n",
    "plt.title(\"Revenue Distribution\")\n",
    "plt.xlabel(\"Revenue per Transaction\")\n",
    "plt.ylabel(\"Frequency\")\n",
    "plt.show()"
   ]
  },
  {
   "cell_type": "code",
   "execution_count": null,
   "id": "cafef9d3",
   "metadata": {},
   "outputs": [],
   "source": [
    "# Price vs Quantity Distribution (Box Plot)\n",
    "plt.figure(figsize=(10, 6))\n",
    "sns.boxplot(x=transactions[\"Quantity\"], y=transactions[\"Price\"], palette=\"coolwarm\")\n",
    "plt.title(\"Price vs Quantity Distribution\")\n",
    "plt.xlabel(\"Quantity\")\n",
    "plt.ylabel(\"Price\")\n",
    "plt.show()"
   ]
  },
  {
   "cell_type": "code",
   "execution_count": null,
   "id": "7d3cc75c",
   "metadata": {},
   "outputs": [],
   "source": [
    "# Feature selection for revenue prediction\n",
    "X = transactions[[\"Quantity\", \"Price\"]]\n",
    "y = transactions[\"TotalValue\"]"
   ]
  },
  {
   "cell_type": "code",
   "execution_count": null,
   "id": "ee712cc2",
   "metadata": {},
   "outputs": [],
   "source": [
    "# Train/Test split\n",
    "X_train, X_test, y_train, y_test = train_test_split(X, y, test_size=0.2, random_state=42)"
   ]
  },
  {
   "cell_type": "code",
   "execution_count": null,
   "id": "40146c12",
   "metadata": {},
   "outputs": [],
   "source": [
    "# Train Linear Regression model\n",
    "model = LinearRegression()\n",
    "model.fit(X_train, y_train)"
   ]
  },
  {
   "cell_type": "code",
   "execution_count": null,
   "id": "5307ad04",
   "metadata": {},
   "outputs": [],
   "source": [
    "# Predict revenue\n",
    "predictions = model.predict(X_test)"
   ]
  },
  {
   "cell_type": "code",
   "execution_count": null,
   "id": "1f7617fe",
   "metadata": {},
   "outputs": [],
   "source": [
    "# Model Evaluation\n",
    "mae = mean_absolute_error(y_test, predictions)\n",
    "mse = mean_squared_error(y_test, predictions)\n",
    "r2 = r2_score(y_test, predictions)"
   ]
  },
  {
   "cell_type": "code",
   "execution_count": null,
   "id": "b22d90e1",
   "metadata": {},
   "outputs": [],
   "source": [
    "# Print Model Performance\n",
    "print(f\"Model Evaluation Metrics:\")\n",
    "print(f\"Mean Absolute Error (MAE): {mae:.2f}\")\n",
    "print(f\"Mean Squared Error (MSE): {mse:.2f}\")\n",
    "print(f\"R-Squared (R²): {r2:.2f}\")"
   ]
  },
  {
   "cell_type": "code",
   "execution_count": null,
   "id": "fb78bb09",
   "metadata": {},
   "outputs": [],
   "source": [
    "# Actual vs Predicted Revenue (Box Plot)\n",
    "plt.figure(figsize=(8, 5))\n",
    "sns.boxplot(data=[y_test, predictions], palette=[\"blue\", \"orange\"])\n",
    "plt.xticks([0, 1], [\"Actual Revenue\", \"Predicted Revenue\"])\n",
    "plt.title(\"Actual vs Predicted Revenue\")\n",
    "plt.show()"
   ]
  },
  {
   "cell_type": "code",
   "execution_count": null,
   "id": "75df03de",
   "metadata": {},
   "outputs": [],
   "source": [
    "'''--- BUSINESS INSIGHT 5\n",
    "5. Customer-Product Interaction\n",
    "A network graph of customer-product relationships shows high-frequency transactions. \n",
    "Strong links highlight customer loyalty towards specific products, guiding personalized offers and retention strategies.'''"
   ]
  },
  {
   "cell_type": "code",
   "execution_count": null,
   "id": "e75b3746",
   "metadata": {},
   "outputs": [],
   "source": [
    "G = nx.Graph()"
   ]
  },
  {
   "cell_type": "code",
   "execution_count": null,
   "id": "bb65cbd0",
   "metadata": {},
   "outputs": [],
   "source": [
    "# Add nodes (Customers & Products)\n",
    "for customer in transactions[\"CustomerID\"].unique():\n",
    "    G.add_node(customer, type=\"customer\")\n",
    "for product in transactions[\"ProductID\"].unique():\n",
    "    G.add_node(product, type=\"product\")"
   ]
  },
  {
   "cell_type": "code",
   "execution_count": null,
   "id": "f440a3c2",
   "metadata": {},
   "outputs": [],
   "source": [
    "# Add edges (Transactions)\n",
    "for _, row in transactions.iterrows():\n",
    "    G.add_edge(row[\"CustomerID\"], row[\"ProductID\"], weight=row[\"Quantity\"])"
   ]
  },
  {
   "cell_type": "code",
   "execution_count": null,
   "id": "17562ae7",
   "metadata": {},
   "outputs": [],
   "source": [
    "# Draw Graph\n",
    "plt.figure(figsize=(10, 8))\n",
    "nx.draw(G, with_labels=False, node_size=20, alpha=0.6, edge_color=\"gray\")\n",
    "plt.title(\"Customer-Product Network\")\n",
    "plt.show()"
   ]
  }
 ],
 "metadata": {
  "jupytext": {
   "cell_metadata_filter": "-all",
   "main_language": "python",
   "notebook_metadata_filter": "-all"
  }
 },
 "nbformat": 4,
 "nbformat_minor": 5
}
