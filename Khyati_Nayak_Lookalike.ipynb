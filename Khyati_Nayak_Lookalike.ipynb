{
 "cells": [
  {
   "cell_type": "code",
   "execution_count": null,
   "id": "1a0d9dd7",
   "metadata": {},
   "outputs": [],
   "source": [
    "import pandas as pd\n",
    "from sklearn.preprocessing import StandardScaler\n",
    "from sklearn.neighbors import NearestNeighbors"
   ]
  },
  {
   "cell_type": "code",
   "execution_count": null,
   "id": "8380a3b5",
   "metadata": {},
   "outputs": [],
   "source": [
    "# Load datasets\n",
    "customers = pd.read_csv(r\"E:\\assignment zeotap\\all_tasks\\Customers.csv\")\n",
    "transactions = pd.read_csv(r\"E:\\assignment zeotap\\all_tasks\\Transactions.csv\")"
   ]
  },
  {
   "cell_type": "code",
   "execution_count": null,
   "id": "e12347f9",
   "metadata": {},
   "outputs": [],
   "source": [
    "# Feature Engineering: Aggregate transaction data per customer\n",
    "customer_spending = transactions.groupby(\"CustomerID\").agg(\n",
    "    TotalSpending=(\"TotalValue\", \"sum\"),\n",
    "    AvgPurchaseValue=(\"TotalValue\", \"mean\"),\n",
    "    PurchaseFrequency=(\"TransactionID\", \"count\")\n",
    ").reset_index()"
   ]
  },
  {
   "cell_type": "code",
   "execution_count": null,
   "id": "df04b310",
   "metadata": {},
   "outputs": [],
   "source": [
    "# Merge customer profiles with transaction history\n",
    "customer_data = customers.merge(customer_spending, on=\"CustomerID\", how=\"left\").fillna(0)"
   ]
  },
  {
   "cell_type": "code",
   "execution_count": null,
   "id": "9c0138e1",
   "metadata": {},
   "outputs": [],
   "source": [
    "# Select numerical features for similarity\n",
    "features = [\"TotalSpending\", \"AvgPurchaseValue\", \"PurchaseFrequency\"]"
   ]
  },
  {
   "cell_type": "code",
   "execution_count": null,
   "id": "0f6ae9a1",
   "metadata": {},
   "outputs": [],
   "source": [
    "# Normalize data for distance calculation\n",
    "scaler = StandardScaler()\n",
    "customer_data_scaled = scaler.fit_transform(customer_data[features])"
   ]
  },
  {
   "cell_type": "code",
   "execution_count": null,
   "id": "c0029839",
   "metadata": {},
   "outputs": [],
   "source": [
    "# Apply K-Nearest Neighbors (KNN) for similarity search\n",
    "knn = NearestNeighbors(n_neighbors=4, metric=\"euclidean\")  # 4 to include self\n",
    "knn.fit(customer_data_scaled)"
   ]
  },
  {
   "cell_type": "code",
   "execution_count": null,
   "id": "4a34edc8",
   "metadata": {},
   "outputs": [],
   "source": [
    "# Find similar customers for C0001 - C0020\n",
    "lookalike_results = []\n",
    "for i in range(20):  # First 20 customers\n",
    "    customer_id = customer_data.iloc[i][\"CustomerID\"]\n",
    "    distances, indices = knn.kneighbors([customer_data_scaled[i]])\n",
    "    \n",
    "    # Get top 3 similar customers (excluding self)\n",
    "    similar_customers = customer_data.iloc[indices[0][1:4]][[\"CustomerID\"]].values.flatten()\n",
    "    similarity_scores = 1 / (1 + distances[0][1:4])  # Convert distance to similarity score\n",
    "    \n",
    "    # Store in results\n",
    "    lookalike_results.append({\n",
    "        \"CustomerID\": customer_id,\n",
    "        \"Lookalikes\": list(zip(similar_customers, similarity_scores))\n",
    "    })"
   ]
  },
  {
   "cell_type": "code",
   "execution_count": null,
   "id": "09bbaf91",
   "metadata": {},
   "outputs": [],
   "source": [
    "# Save results as Lookalike.csv\n",
    "lookalike_df = pd.DataFrame(lookalike_results)\n",
    "lookalike_df.to_csv(\"E:/assignment zeotap/all_tasks/Lookalike.csv\", index=False)"
   ]
  },
  {
   "cell_type": "code",
   "execution_count": null,
   "id": "abb41ef3",
   "metadata": {},
   "outputs": [],
   "source": [
    "print(\"Lookalike model completed! Results saved to Lookalike.csv.\")"
   ]
  }
 ],
 "metadata": {
  "jupytext": {
   "cell_metadata_filter": "-all",
   "main_language": "python",
   "notebook_metadata_filter": "-all"
  }
 },
 "nbformat": 4,
 "nbformat_minor": 5
}
