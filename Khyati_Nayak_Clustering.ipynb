{
 "cells": [
  {
   "cell_type": "code",
   "execution_count": null,
   "id": "1d625b69",
   "metadata": {},
   "outputs": [],
   "source": [
    "import pandas as pd\n",
    "import numpy as np\n",
    "import matplotlib.pyplot as plt\n",
    "import seaborn as sns\n",
    "from sklearn.preprocessing import StandardScaler, LabelEncoder\n",
    "from sklearn.cluster import KMeans\n",
    "from sklearn.mixture import GaussianMixture\n",
    "from sklearn.metrics import davies_bouldin_score, silhouette_score\n",
    "from mpl_toolkits.mplot3d import Axes3D"
   ]
  },
  {
   "cell_type": "code",
   "execution_count": null,
   "id": "3779083e",
   "metadata": {},
   "outputs": [],
   "source": [
    "#Load Dataset\n",
    "customers = pd.read_csv(r\"E:\\assignment zeotap\\all_tasks\\Customers.csv\")\n",
    "transactions = pd.read_csv(r\"E:\\assignment zeotap\\all_tasks\\Transactions.csv\")"
   ]
  },
  {
   "cell_type": "code",
   "execution_count": null,
   "id": "0fdb85ac",
   "metadata": {},
   "outputs": [],
   "source": [
    "# Encode categorical variables\n",
    "label_encoder = LabelEncoder()\n",
    "customers[\"RegionEncoded\"] = label_encoder.fit_transform(customers[\"Region\"])"
   ]
  },
  {
   "cell_type": "code",
   "execution_count": null,
   "id": "7d3aeb86",
   "metadata": {},
   "outputs": [],
   "source": [
    "# Aggregate transaction data per customer\n",
    "customer_spending = transactions.groupby(\"CustomerID\").agg(\n",
    "    TotalSpending=(\"TotalValue\", \"sum\"),\n",
    "    AvgPurchaseValue=(\"TotalValue\", \"mean\"),\n",
    "    PurchaseFrequency=(\"TransactionID\", \"count\")\n",
    ").reset_index()"
   ]
  },
  {
   "cell_type": "code",
   "execution_count": null,
   "id": "f7ebad0e",
   "metadata": {},
   "outputs": [],
   "source": [
    "# Merge customer profiles with transaction history\n",
    "customer_data = customers.merge(customer_spending, on=\"CustomerID\", how=\"left\").fillna(0)"
   ]
  },
  {
   "cell_type": "code",
   "execution_count": null,
   "id": "080366b6",
   "metadata": {},
   "outputs": [],
   "source": [
    "# Select features for clustering\n",
    "features = [\"TotalSpending\", \"AvgPurchaseValue\", \"PurchaseFrequency\", \"RegionEncoded\"]"
   ]
  },
  {
   "cell_type": "code",
   "execution_count": null,
   "id": "1d59b16a",
   "metadata": {},
   "outputs": [],
   "source": [
    "# Apply Standard Scaling\n",
    "scaler = StandardScaler()\n",
    "customer_data_scaled = scaler.fit_transform(customer_data[features])"
   ]
  },
  {
   "cell_type": "code",
   "execution_count": null,
   "id": "ffa108e0",
   "metadata": {},
   "outputs": [],
   "source": [
    "# Find the optimal number of clusters using DB Index\n",
    "db_scores = []\n",
    "silhouette_scores = []\n",
    "range_clusters = range(2, 10)"
   ]
  },
  {
   "cell_type": "code",
   "execution_count": null,
   "id": "f094e674",
   "metadata": {},
   "outputs": [],
   "source": [
    "for k in range_clusters:\n",
    "    kmeans = KMeans(n_clusters=k, random_state=42)\n",
    "    cluster_labels = kmeans.fit_predict(customer_data_scaled)\n",
    "    db_scores.append(davies_bouldin_score(customer_data_scaled, cluster_labels))\n",
    "    silhouette_scores.append(silhouette_score(customer_data_scaled, cluster_labels))"
   ]
  },
  {
   "cell_type": "code",
   "execution_count": null,
   "id": "0b8d45f4",
   "metadata": {},
   "outputs": [],
   "source": [
    "# Plot DB Index & Silhouette Score\n",
    "plt.figure(figsize=(12, 5))\n",
    "plt.subplot(1, 2, 1)\n",
    "plt.plot(range_clusters, db_scores, marker=\"o\", linestyle=\"-\", color=\"red\")\n",
    "plt.xlabel(\"Number of Clusters\")\n",
    "plt.ylabel(\"Davies-Bouldin Index (Lower is Better)\")\n",
    "plt.title(\"Optimal Clusters using DB Index\")"
   ]
  },
  {
   "cell_type": "code",
   "execution_count": null,
   "id": "88c0f277",
   "metadata": {},
   "outputs": [],
   "source": [
    "plt.subplot(1, 2, 2)\n",
    "plt.plot(range_clusters, silhouette_scores, marker=\"o\", linestyle=\"-\", color=\"blue\")\n",
    "plt.xlabel(\"Number of Clusters\")\n",
    "plt.ylabel(\"Silhouette Score (Higher is Better)\")\n",
    "plt.title(\"Optimal Clusters using Silhouette Score\")"
   ]
  },
  {
   "cell_type": "code",
   "execution_count": null,
   "id": "93c231a9",
   "metadata": {},
   "outputs": [],
   "source": [
    "plt.show()"
   ]
  },
  {
   "cell_type": "code",
   "execution_count": null,
   "id": "a7dc33a4",
   "metadata": {},
   "outputs": [],
   "source": [
    "# Select the best number of clusters (based on the lowest DB Index)\n",
    "best_k = range_clusters[np.argmin(db_scores)]\n",
    "print(f\"Best Number of Clusters: {best_k}\")"
   ]
  },
  {
   "cell_type": "code",
   "execution_count": null,
   "id": "ce6088be",
   "metadata": {},
   "outputs": [],
   "source": [
    "# Apply K-Means with Best Cluster Count\n",
    "final_kmeans = KMeans(n_clusters=best_k, random_state=42)\n",
    "customer_data[\"Cluster\"] = final_kmeans.fit_predict(customer_data_scaled)"
   ]
  },
  {
   "cell_type": "code",
   "execution_count": null,
   "id": "6b171e7c",
   "metadata": {},
   "outputs": [],
   "source": [
    "# Compute Final DB Index\n",
    "db_index_final = davies_bouldin_score(customer_data_scaled, customer_data[\"Cluster\"])\n",
    "print(f\"Final Davies-Bouldin Index: {db_index_final:.2f}\")"
   ]
  },
  {
   "cell_type": "code",
   "execution_count": null,
   "id": "b7a39f12",
   "metadata": {},
   "outputs": [],
   "source": [
    "# 3D Visualization of Clusters\n",
    "fig = plt.figure(figsize=(10, 7))\n",
    "ax = fig.add_subplot(111, projection=\"3d\")\n",
    "scatter = ax.scatter(\n",
    "    customer_data[\"TotalSpending\"],\n",
    "    customer_data[\"PurchaseFrequency\"],\n",
    "    customer_data[\"AvgPurchaseValue\"],\n",
    "    c=customer_data[\"Cluster\"],\n",
    "    cmap=\"viridis\",\n",
    "    alpha=0.7\n",
    ")\n",
    "ax.set_xlabel(\"Total Spending\")\n",
    "ax.set_ylabel(\"Purchase Frequency\")\n",
    "ax.set_zlabel(\"Avg Purchase Value\")\n",
    "plt.title(\"Customer Segments in 3D\")\n",
    "plt.colorbar(scatter)\n",
    "plt.show()"
   ]
  },
  {
   "cell_type": "code",
   "execution_count": null,
   "id": "018ea40d",
   "metadata": {},
   "outputs": [],
   "source": [
    "#Save Clustered Data\n",
    "print(\"Customer segmentation completed! Results saved to Customer_Segments.csv.\")"
   ]
  }
 ],
 "metadata": {
  "jupytext": {
   "cell_metadata_filter": "-all",
   "main_language": "python",
   "notebook_metadata_filter": "-all"
  },
  "language_info": {
   "name": "python"
  }
 },
 "nbformat": 4,
 "nbformat_minor": 5
}
